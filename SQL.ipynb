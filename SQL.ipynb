{
 "cells": [
  {
   "cell_type": "markdown",
   "metadata": {},
   "source": [
    "### 1"
   ]
  },
  {
   "cell_type": "markdown",
   "metadata": {},
   "source": [
    "Для каждого пользователя найти последние три взятые им произведения.\n",
    "Для каждого такого произведения указать сколько всего раз его брали (за все\n",
    "время)."
   ]
  },
  {
   "cell_type": "code",
   "execution_count": null,
   "metadata": {},
   "outputs": [],
   "source": [
    "CREATE VIEW summary AS\n",
    "  (SELECT id_user,\n",
    "          id_произведение, Название, дата_взяли\n",
    "   FROM Лог операций F\n",
    "   LEFT JOIN\n",
    "     (SELECT D.id AS id_экземпляр,\n",
    "             id_издание,\n",
    "             id_произведение, Название\n",
    "      FROM Экземпляр AS D\n",
    "      LEFT JOIN\n",
    "        (SELECT A.id AS id_Издание,\n",
    "                id_произведение, Название\n",
    "         FROM Издание AS A\n",
    "         LEFT JOIN Произведение AS B ON A.id_произведения = B.id) AS С ON D.id_издание = C.id_издание) AS E ON D.id_экземпляр = E.id_экземпляр\n",
    "   ORDER BY id_user, дата_взяли DESC);\n",
    "\n",
    "-- Для каждого пользователя найти последние три взятые им произведения.\n",
    "\n",
    "CREATE VIEW last_books AS\n",
    "  (SELECT G.id_user AS id_user,\n",
    "          G.latest_date AS latest_date,\n",
    "          1_book,\n",
    "          2_book,\n",
    "          3_book\n",
    "   FROM\n",
    "     (SELECT id_user,\n",
    "             MAX(дата_взяли) AS latest_date\n",
    "      FROM summary\n",
    "      GROUP BY AS id_user) AS G\n",
    "   JOIN\n",
    "     (SELECT id_user, дата_взяли,\n",
    "                          first_value(Название) OVER w AS 1_book,\n",
    "                                                     nth_value(Название, 2) OVER w AS 2_book,\n",
    "                                                                                 last_value(Название) OVER w AS 3_book\n",
    "      FROM summary WINDOW w AS(PARTITION BY id_user\n",
    "                               ORDER BY дата_взяли DESC RANGE ROWS BETWEEN CURRENT ROW AD 2 UNBONDED FOLLOWING)) AS H ON G.latest_date= H.дата_взяли\n",
    "   AND G.id_user= H.id_user);\n",
    "\n",
    "\n",
    "SELECT *\n",
    "FROM last_books;\n",
    "\n",
    "-- Для каждого такого произведения указать сколько всего раз его брали (за все время)\n",
    "\n",
    "SELECT Название, COUNT(дата_взяли) AS times_ordered\n",
    "FROM summary\n",
    "WHERE Название IS IN\n",
    "    (SELECT 1_book\n",
    "     FROM last_books)\n",
    "  OR Название IS IN\n",
    "    (SELECT 3_book\n",
    "     FROM last_books)\n",
    "  OR Название IS IN\n",
    "    (SELECT 2_book\n",
    "     FROM last_books)\n",
    "GROUP BY Название"
   ]
  },
  {
   "cell_type": "markdown",
   "metadata": {},
   "source": [
    "### 2.1 Вывести детализацию по клиенту"
   ]
  },
  {
   "cell_type": "markdown",
   "metadata": {},
   "source": [
    "a. ID клиента\n",
    "\n",
    "b. Дата и сумма первой покупки\n",
    "\n",
    "c. Дата и сумма повторной (следующей после первой) покупки\n",
    "\n",
    "d. Дата последней покупки\n",
    "\n",
    "e. Сумма покупок, совершенных в течение месяца после первой покупки\n",
    "\n",
    "f. Время (кол-во дней) между первой и повторной покупкой\n",
    "\n",
    "g. Среднее время (кол-во дней) между покупками"
   ]
  },
  {
   "cell_type": "code",
   "execution_count": null,
   "metadata": {},
   "outputs": [],
   "source": [
    "SELECT L.ClientID AS ClientID,\n",
    "       L.first_order_date AS first_order_date,\n",
    "       second_day_date,\n",
    "       second_day_order_sum,\n",
    "       last_order_date,\n",
    "       last_order_sum,\n",
    "       first_month_sum,\n",
    "       second_day_date - L.first_order_date AS time_bw_first_two_orders,\n",
    "       avg_time_bw_orders\n",
    "FROM\n",
    "  (SELECT ClientID,\n",
    "          order_date,\n",
    "          day_sum,\n",
    "          LEAD(order_date, 1) OVER w AS second_day_date,\n",
    "                                   LEAD(day_sum, 1) OVER w AS second_day_order_sum,\n",
    "                                                         LAST_VALUE(order_date) OVER w AS last_order_date,\n",
    "                                                                                     LAST_VALUE(day_sum) OVER w AS last_order_sum,\n",
    "                                                                                                              SUM(day_sum) OVER (PARTITION BY ClientID\n",
    "                                                                                                                                 ORDER BY order_date ASC RANGE BETWEEN CURRENT ROW AND '1 month' FOLLOWING) AS first_month_sum\n",
    "   FROM\n",
    "     (SELECT ClientID,\n",
    "             date(OperationTime) AS order_date,\n",
    "             SUM(order_id) AS day_sum\n",
    "      FROM tblClientBalanceOperation\n",
    "      WHERE SignOfPayment=1\n",
    "        AND ClientID NOT IN\n",
    "          (SELECT ClientID\n",
    "           FROM tblTestClients)\n",
    "      GROUP BY ClientID,\n",
    "               order_date) AS A WINDOW w AS (PARTITION BY ClientID\n",
    "                                             ORDER BY order_date ASC RANGE BETWEEN CURRENT ROW AND UNBOUNDED FOLLOWING)) AS R\n",
    "JOIN\n",
    "  (SELECT ClientID,\n",
    "          MIN(order_date) AS first_order_date,\n",
    "          AVG(second_order_date - order_date) AS avg_time_bw_orders\n",
    "   FROM\n",
    "     (SELECT ClientID,\n",
    "             date(OperationTime) AS order_date,\n",
    "             LEAD(order_date, 1) OVER (PARTITION BY ClientID\n",
    "                                       ORDER BY order_date ASC) AS second_order_date\n",
    "      FROM tblClientBalanceOperation\n",
    "      WHERE SignOfPayment=1\n",
    "        AND ClientID NOT IN\n",
    "          (SELECT ClientID\n",
    "           FROM tblTestClients) ) AS a\n",
    "   GROUP BY ClientID) AS L ON R.ClientID = L.ClientID\n",
    "AND R.order_date = L.first_order_date"
   ]
  },
  {
   "cell_type": "markdown",
   "metadata": {},
   "source": [
    "### 2.2 Количество потерянных клиентов по месяцам"
   ]
  },
  {
   "cell_type": "markdown",
   "metadata": {},
   "source": [
    "Потерянным клиентом считается тот, который совершал покупки в предыдущем\n",
    "месяце, но не совершал в текущем. Какой % из этих потерянных клиентов\n",
    "находятся в статусе Deleted?\n",
    "Вывести по месяцам за текущий год"
   ]
  },
  {
   "cell_type": "code",
   "execution_count": null,
   "metadata": {},
   "outputs": [],
   "source": [
    "SELECT AVG(st)\n",
    "FROM\n",
    "  (SELECT CASE\n",
    "              WHEN Status = 'Deleted' THEN 1\n",
    "              ELSE 0\n",
    "          END AS st\n",
    "   FROM\n",
    "     (SELECT Status\n",
    "      FROM\n",
    "        (SELECT*,\n",
    "               LAST_VALUE(month_num) OVER w AS prev_month_num\n",
    "         FROM\n",
    "           (SELECT ClientID,\n",
    "                   max(OperationTime) AS months_last_order,\n",
    "                   EXTRACT(MONTH\n",
    "                           FROM OperationTime) AS month_num,\n",
    "                   EXTRACT(YEAR\n",
    "                           FROM OperationTime) AS year_num\n",
    "            FROM tblTestClients\n",
    "            WHERE EXTRACT(YEAR\n",
    "                          FROM OperationTime) = 2020\n",
    "              AND SignOfPayment=1\n",
    "              AND ClientID NOT IN\n",
    "                (SELECT ClientID\n",
    "                 FROM tblTestClients)\n",
    "            GROUP BY ClientID,\n",
    "                     EXTRACT(MONTH\n",
    "                             FROM OperationTime),\n",
    "                     EXTRACT(YEAR\n",
    "                             FROM OperationTime)) AS A WINDOW w AS(PARTITION BY ClientID\n",
    "                                                                   ORDER BY month_num DESC RANGE BETWEEN CURRENT ROW AND 1 FOLLOWING)) AS L\n",
    "      JOIN tblClients AS R ON L.ClientID = R.ClientID\n",
    "      WHERE month_num - prev_month_num != 1) AS C) AS D"
   ]
  },
  {
   "cell_type": "markdown",
   "metadata": {},
   "source": [
    "### 2.3 Покупки по неделям с момента регистрации"
   ]
  },
  {
   "cell_type": "markdown",
   "metadata": {},
   "source": [
    "Сколько клиентов совершают первую покупку в первую неделю с регистрации на\n",
    "сайте, сколько во вторую неделю, сколько на третьей неделе и сколько позже?\n",
    "(вывести абсолютные значения и доли)"
   ]
  },
  {
   "cell_type": "code",
   "execution_count": null,
   "metadata": {},
   "outputs": [],
   "source": [
    "SELECT cohorts,\n",
    "       COUNT(cohorts) AS cohorts_size\n",
    "FROM\n",
    "  (SELECT CASE\n",
    "              WHEN time_since_reg <= 7 THEN 1\n",
    "              WHEN time_since_reg > 7\n",
    "                   AND time_since_reg <= 15 THEN 2\n",
    "              WHEN time_since_reg > 15\n",
    "                   AND time_since_reg <= 22 THEN 3\n",
    "              ELSE 4\n",
    "          END AS cohorts\n",
    "   FROM\n",
    "     (SELECT L.ClientID AS ClientID,\n",
    "             firs_order_date,\n",
    "             reg_date,\n",
    "             (firs_order_date - reg_date) AS time_since_reg\n",
    "      FROM (\n",
    "              (SELECT ClientID,\n",
    "                      MIN(OperationTime) AS firs_order_date\n",
    "               FROM tblClientBalanceOperation\n",
    "               WHERE SignOfPayment=1\n",
    "                 AND client_id NOT IN\n",
    "                   (SELECT client_id\n",
    "                    FROM tblTestClients)\n",
    "               GROUP BY ClientID) AS L\n",
    "            JOIN\n",
    "              (SELECT ClientID,\n",
    "                      MIN(OnlineTime) AS reg_date\n",
    "               FROM tblOnlineSessions_mini\n",
    "               GROUP BY ClientID) AS R ON L.ClientID = R.ClientID) AS B) AS C) AS D\n",
    "GROUP BY cohorts"
   ]
  }
 ],
 "metadata": {
  "kernelspec": {
   "display_name": "Python 3",
   "language": "python",
   "name": "python3"
  },
  "language_info": {
   "codemirror_mode": {
    "name": "ipython",
    "version": 3
   },
   "file_extension": ".py",
   "mimetype": "text/x-python",
   "name": "python",
   "nbconvert_exporter": "python",
   "pygments_lexer": "ipython3",
   "version": "3.7.3"
  }
 },
 "nbformat": 4,
 "nbformat_minor": 4
}
