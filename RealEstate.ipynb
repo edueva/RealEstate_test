{
 "cells": [
  {
   "cell_type": "code",
   "execution_count": 133,
   "metadata": {},
   "outputs": [],
   "source": [
    "import pandas as pd\n",
    "import numpy as np\n",
    "from datetime import datetime\n",
    "from scipy.stats import norm, mannwhitneyu\n",
    "import statsmodels.api as sm\n",
    "import seaborn as sns\n",
    "import matplotlib.pyplot as plt\n",
    "from tqdm.auto import tqdm\n",
    "%matplotlib inline"
   ]
  },
  {
   "cell_type": "markdown",
   "metadata": {},
   "source": [
    "## Загрузка данных"
   ]
  },
  {
   "cell_type": "code",
   "execution_count": 31,
   "metadata": {},
   "outputs": [],
   "source": [
    "df = pd.read_csv('cian.csv', encoding='Windows-1251', sep = ';', usecols = [k for k in range(1,9)] )"
   ]
  },
  {
   "cell_type": "code",
   "execution_count": 32,
   "metadata": {},
   "outputs": [
    {
     "data": {
      "text/plain": [
       "Компания                  0\n",
       "Категория                 0\n",
       "Регион                    0\n",
       "Тип сделки                0\n",
       "Категория недвижимости    0\n",
       "Рубрика                   0\n",
       "Неделя                    0\n",
       "Контент                   0\n",
       "dtype: int64"
      ]
     },
     "execution_count": 32,
     "metadata": {},
     "output_type": "execute_result"
    }
   ],
   "source": [
    "df.isna().sum()"
   ]
  },
  {
   "cell_type": "code",
   "execution_count": 33,
   "metadata": {},
   "outputs": [
    {
     "data": {
      "text/plain": [
       "Компания                  object\n",
       "Категория                 object\n",
       "Регион                    object\n",
       "Тип сделки                object\n",
       "Категория недвижимости    object\n",
       "Рубрика                   object\n",
       "Неделя                    object\n",
       "Контент                    int64\n",
       "dtype: object"
      ]
     },
     "execution_count": 33,
     "metadata": {},
     "output_type": "execute_result"
    }
   ],
   "source": [
    "df.dtypes"
   ]
  },
  {
   "cell_type": "code",
   "execution_count": 34,
   "metadata": {},
   "outputs": [
    {
     "data": {
      "text/html": [
       "<div>\n",
       "<style scoped>\n",
       "    .dataframe tbody tr th:only-of-type {\n",
       "        vertical-align: middle;\n",
       "    }\n",
       "\n",
       "    .dataframe tbody tr th {\n",
       "        vertical-align: top;\n",
       "    }\n",
       "\n",
       "    .dataframe thead th {\n",
       "        text-align: right;\n",
       "    }\n",
       "</style>\n",
       "<table border=\"1\" class=\"dataframe\">\n",
       "  <thead>\n",
       "    <tr style=\"text-align: right;\">\n",
       "      <th></th>\n",
       "      <th>Компания</th>\n",
       "      <th>Категория</th>\n",
       "      <th>Регион</th>\n",
       "      <th>Тип сделки</th>\n",
       "      <th>Категория недвижимости</th>\n",
       "      <th>Рубрика</th>\n",
       "      <th>Неделя</th>\n",
       "    </tr>\n",
       "  </thead>\n",
       "  <tbody>\n",
       "    <tr>\n",
       "      <th>count</th>\n",
       "      <td>104412</td>\n",
       "      <td>104412</td>\n",
       "      <td>104412</td>\n",
       "      <td>104412</td>\n",
       "      <td>104412</td>\n",
       "      <td>104412</td>\n",
       "      <td>104412</td>\n",
       "    </tr>\n",
       "    <tr>\n",
       "      <th>unique</th>\n",
       "      <td>2</td>\n",
       "      <td>7</td>\n",
       "      <td>16</td>\n",
       "      <td>2</td>\n",
       "      <td>2</td>\n",
       "      <td>3</td>\n",
       "      <td>98</td>\n",
       "    </tr>\n",
       "    <tr>\n",
       "      <th>top</th>\n",
       "      <td>Игрок 2</td>\n",
       "      <td>Собственник (1)</td>\n",
       "      <td>Краснодар</td>\n",
       "      <td>Аренда</td>\n",
       "      <td>Городская</td>\n",
       "      <td>Вторичка</td>\n",
       "      <td>С 2018-06-04 до 2018-06-10</td>\n",
       "    </tr>\n",
       "    <tr>\n",
       "      <th>freq</th>\n",
       "      <td>54110</td>\n",
       "      <td>17753</td>\n",
       "      <td>7569</td>\n",
       "      <td>63142</td>\n",
       "      <td>55466</td>\n",
       "      <td>41270</td>\n",
       "      <td>1094</td>\n",
       "    </tr>\n",
       "  </tbody>\n",
       "</table>\n",
       "</div>"
      ],
      "text/plain": [
       "       Компания        Категория     Регион Тип сделки Категория недвижимости  \\\n",
       "count    104412           104412     104412     104412                 104412   \n",
       "unique        2                7         16          2                      2   \n",
       "top     Игрок 2  Собственник (1)  Краснодар     Аренда              Городская   \n",
       "freq      54110            17753       7569      63142                  55466   \n",
       "\n",
       "         Рубрика                      Неделя  \n",
       "count     104412                      104412  \n",
       "unique         3                          98  \n",
       "top     Вторичка  С 2018-06-04 до 2018-06-10  \n",
       "freq       41270                        1094  "
      ]
     },
     "execution_count": 34,
     "metadata": {},
     "output_type": "execute_result"
    }
   ],
   "source": [
    "df.describe(include = 'object')"
   ]
  },
  {
   "cell_type": "code",
   "execution_count": 35,
   "metadata": {},
   "outputs": [],
   "source": [
    "df = df.join(df['Неделя'].str.replace('С ', '').str.split(' до ', expand = True).rename(columns = {0:'start', 1:'end'}))\n",
    "df.drop(columns = 'Неделя', inplace = True)\n",
    "df.rename(columns = {'Компания':'Company',\n",
    "                     'Категория':'Client',\n",
    "                     'Регион':'Region',\n",
    "                     'Тип сделки':'Deal_type',\n",
    "                     'Категория недвижимости':'Estate_type',\n",
    "                     'Рубрика':'Rubric',\n",
    "                     'Контент':'Content'}, inplace = True )"
   ]
  },
  {
   "cell_type": "code",
   "execution_count": 36,
   "metadata": {},
   "outputs": [],
   "source": [
    "df['start'] = pd.to_datetime(df['start'])\n",
    "df['end'] = pd.to_datetime(df['end'])"
   ]
  },
  {
   "cell_type": "code",
   "execution_count": 37,
   "metadata": {},
   "outputs": [
    {
     "data": {
      "text/html": [
       "<div>\n",
       "<style scoped>\n",
       "    .dataframe tbody tr th:only-of-type {\n",
       "        vertical-align: middle;\n",
       "    }\n",
       "\n",
       "    .dataframe tbody tr th {\n",
       "        vertical-align: top;\n",
       "    }\n",
       "\n",
       "    .dataframe thead th {\n",
       "        text-align: right;\n",
       "    }\n",
       "</style>\n",
       "<table border=\"1\" class=\"dataframe\">\n",
       "  <thead>\n",
       "    <tr style=\"text-align: right;\">\n",
       "      <th></th>\n",
       "      <th>Company</th>\n",
       "      <th>Client</th>\n",
       "      <th>Region</th>\n",
       "      <th>Deal_type</th>\n",
       "      <th>Estate_type</th>\n",
       "      <th>Rubric</th>\n",
       "      <th>Content</th>\n",
       "      <th>start</th>\n",
       "      <th>end</th>\n",
       "    </tr>\n",
       "  </thead>\n",
       "  <tbody>\n",
       "    <tr>\n",
       "      <th>0</th>\n",
       "      <td>Игрок 1</td>\n",
       "      <td>Большое агенство (201-1000)</td>\n",
       "      <td>Челябинск</td>\n",
       "      <td>Аренда</td>\n",
       "      <td>Городская</td>\n",
       "      <td>Долгосрочная</td>\n",
       "      <td>69</td>\n",
       "      <td>2018-01-01</td>\n",
       "      <td>2018-01-07</td>\n",
       "    </tr>\n",
       "    <tr>\n",
       "      <th>1</th>\n",
       "      <td>Игрок 1</td>\n",
       "      <td>Большое агенство (201-1000)</td>\n",
       "      <td>Челябинск</td>\n",
       "      <td>Аренда</td>\n",
       "      <td>Городская</td>\n",
       "      <td>Долгосрочная</td>\n",
       "      <td>63</td>\n",
       "      <td>2018-01-08</td>\n",
       "      <td>2018-01-14</td>\n",
       "    </tr>\n",
       "    <tr>\n",
       "      <th>2</th>\n",
       "      <td>Игрок 1</td>\n",
       "      <td>Большое агенство (201-1000)</td>\n",
       "      <td>Челябинск</td>\n",
       "      <td>Аренда</td>\n",
       "      <td>Городская</td>\n",
       "      <td>Долгосрочная</td>\n",
       "      <td>81</td>\n",
       "      <td>2018-01-15</td>\n",
       "      <td>2018-01-21</td>\n",
       "    </tr>\n",
       "    <tr>\n",
       "      <th>3</th>\n",
       "      <td>Игрок 1</td>\n",
       "      <td>Большое агенство (201-1000)</td>\n",
       "      <td>Челябинск</td>\n",
       "      <td>Аренда</td>\n",
       "      <td>Городская</td>\n",
       "      <td>Долгосрочная</td>\n",
       "      <td>86</td>\n",
       "      <td>2018-01-22</td>\n",
       "      <td>2018-01-28</td>\n",
       "    </tr>\n",
       "    <tr>\n",
       "      <th>4</th>\n",
       "      <td>Игрок 1</td>\n",
       "      <td>Большое агенство (201-1000)</td>\n",
       "      <td>Челябинск</td>\n",
       "      <td>Аренда</td>\n",
       "      <td>Городская</td>\n",
       "      <td>Долгосрочная</td>\n",
       "      <td>86</td>\n",
       "      <td>2018-01-29</td>\n",
       "      <td>2018-02-04</td>\n",
       "    </tr>\n",
       "    <tr>\n",
       "      <th>...</th>\n",
       "      <td>...</td>\n",
       "      <td>...</td>\n",
       "      <td>...</td>\n",
       "      <td>...</td>\n",
       "      <td>...</td>\n",
       "      <td>...</td>\n",
       "      <td>...</td>\n",
       "      <td>...</td>\n",
       "      <td>...</td>\n",
       "    </tr>\n",
       "    <tr>\n",
       "      <th>104407</th>\n",
       "      <td>Игрок 2</td>\n",
       "      <td>Частный маклер (2-3)</td>\n",
       "      <td>Воронеж</td>\n",
       "      <td>Продажа</td>\n",
       "      <td>Загородная</td>\n",
       "      <td>Вторичка</td>\n",
       "      <td>283</td>\n",
       "      <td>2019-10-21</td>\n",
       "      <td>2019-10-27</td>\n",
       "    </tr>\n",
       "    <tr>\n",
       "      <th>104408</th>\n",
       "      <td>Игрок 2</td>\n",
       "      <td>Частный маклер (2-3)</td>\n",
       "      <td>Воронеж</td>\n",
       "      <td>Продажа</td>\n",
       "      <td>Загородная</td>\n",
       "      <td>Вторичка</td>\n",
       "      <td>282</td>\n",
       "      <td>2019-10-28</td>\n",
       "      <td>2019-11-03</td>\n",
       "    </tr>\n",
       "    <tr>\n",
       "      <th>104409</th>\n",
       "      <td>Игрок 2</td>\n",
       "      <td>Частный маклер (2-3)</td>\n",
       "      <td>Воронеж</td>\n",
       "      <td>Продажа</td>\n",
       "      <td>Загородная</td>\n",
       "      <td>Вторичка</td>\n",
       "      <td>279</td>\n",
       "      <td>2019-11-04</td>\n",
       "      <td>2019-11-10</td>\n",
       "    </tr>\n",
       "    <tr>\n",
       "      <th>104410</th>\n",
       "      <td>Игрок 2</td>\n",
       "      <td>Частный маклер (2-3)</td>\n",
       "      <td>Воронеж</td>\n",
       "      <td>Продажа</td>\n",
       "      <td>Загородная</td>\n",
       "      <td>Вторичка</td>\n",
       "      <td>284</td>\n",
       "      <td>2019-11-11</td>\n",
       "      <td>2019-11-17</td>\n",
       "    </tr>\n",
       "    <tr>\n",
       "      <th>104411</th>\n",
       "      <td>Игрок 2</td>\n",
       "      <td>Частный маклер (2-3)</td>\n",
       "      <td>Воронеж</td>\n",
       "      <td>Продажа</td>\n",
       "      <td>Загородная</td>\n",
       "      <td>Вторичка</td>\n",
       "      <td>287</td>\n",
       "      <td>2019-11-18</td>\n",
       "      <td>2019-11-24</td>\n",
       "    </tr>\n",
       "  </tbody>\n",
       "</table>\n",
       "<p>104412 rows × 9 columns</p>\n",
       "</div>"
      ],
      "text/plain": [
       "        Company                       Client     Region Deal_type Estate_type  \\\n",
       "0       Игрок 1  Большое агенство (201-1000)  Челябинск    Аренда   Городская   \n",
       "1       Игрок 1  Большое агенство (201-1000)  Челябинск    Аренда   Городская   \n",
       "2       Игрок 1  Большое агенство (201-1000)  Челябинск    Аренда   Городская   \n",
       "3       Игрок 1  Большое агенство (201-1000)  Челябинск    Аренда   Городская   \n",
       "4       Игрок 1  Большое агенство (201-1000)  Челябинск    Аренда   Городская   \n",
       "...         ...                          ...        ...       ...         ...   \n",
       "104407  Игрок 2         Частный маклер (2-3)    Воронеж   Продажа  Загородная   \n",
       "104408  Игрок 2         Частный маклер (2-3)    Воронеж   Продажа  Загородная   \n",
       "104409  Игрок 2         Частный маклер (2-3)    Воронеж   Продажа  Загородная   \n",
       "104410  Игрок 2         Частный маклер (2-3)    Воронеж   Продажа  Загородная   \n",
       "104411  Игрок 2         Частный маклер (2-3)    Воронеж   Продажа  Загородная   \n",
       "\n",
       "              Rubric  Content      start        end  \n",
       "0       Долгосрочная       69 2018-01-01 2018-01-07  \n",
       "1       Долгосрочная       63 2018-01-08 2018-01-14  \n",
       "2       Долгосрочная       81 2018-01-15 2018-01-21  \n",
       "3       Долгосрочная       86 2018-01-22 2018-01-28  \n",
       "4       Долгосрочная       86 2018-01-29 2018-02-04  \n",
       "...              ...      ...        ...        ...  \n",
       "104407      Вторичка      283 2019-10-21 2019-10-27  \n",
       "104408      Вторичка      282 2019-10-28 2019-11-03  \n",
       "104409      Вторичка      279 2019-11-04 2019-11-10  \n",
       "104410      Вторичка      284 2019-11-11 2019-11-17  \n",
       "104411      Вторичка      287 2019-11-18 2019-11-24  \n",
       "\n",
       "[104412 rows x 9 columns]"
      ]
     },
     "execution_count": 37,
     "metadata": {},
     "output_type": "execute_result"
    }
   ],
   "source": [
    "df"
   ]
  },
  {
   "cell_type": "code",
   "execution_count": 38,
   "metadata": {},
   "outputs": [
    {
     "data": {
      "text/plain": [
       "Company        0\n",
       "Client         0\n",
       "Region         0\n",
       "Deal_type      0\n",
       "Estate_type    0\n",
       "Rubric         0\n",
       "Content        0\n",
       "start          0\n",
       "end            0\n",
       "dtype: int64"
      ]
     },
     "execution_count": 38,
     "metadata": {},
     "output_type": "execute_result"
    }
   ],
   "source": [
    "df.isna().sum()"
   ]
  },
  {
   "cell_type": "code",
   "execution_count": 39,
   "metadata": {},
   "outputs": [
    {
     "data": {
      "text/html": [
       "<div>\n",
       "<style scoped>\n",
       "    .dataframe tbody tr th:only-of-type {\n",
       "        vertical-align: middle;\n",
       "    }\n",
       "\n",
       "    .dataframe tbody tr th {\n",
       "        vertical-align: top;\n",
       "    }\n",
       "\n",
       "    .dataframe thead th {\n",
       "        text-align: right;\n",
       "    }\n",
       "</style>\n",
       "<table border=\"1\" class=\"dataframe\">\n",
       "  <thead>\n",
       "    <tr style=\"text-align: right;\">\n",
       "      <th></th>\n",
       "      <th>Category</th>\n",
       "      <th>Segment</th>\n",
       "    </tr>\n",
       "  </thead>\n",
       "  <tbody>\n",
       "    <tr>\n",
       "      <th>0</th>\n",
       "      <td>Большое агенство (201-1000)</td>\n",
       "      <td>АН</td>\n",
       "    </tr>\n",
       "    <tr>\n",
       "      <th>1</th>\n",
       "      <td>Крупное агенство (1000+)</td>\n",
       "      <td>АН</td>\n",
       "    </tr>\n",
       "    <tr>\n",
       "      <th>2</th>\n",
       "      <td>Крупный маклер (4-9)</td>\n",
       "      <td>SMB</td>\n",
       "    </tr>\n",
       "    <tr>\n",
       "      <th>3</th>\n",
       "      <td>Малое агенство (10-50)</td>\n",
       "      <td>SMB</td>\n",
       "    </tr>\n",
       "    <tr>\n",
       "      <th>4</th>\n",
       "      <td>Собственник (1)</td>\n",
       "      <td>Owner</td>\n",
       "    </tr>\n",
       "    <tr>\n",
       "      <th>5</th>\n",
       "      <td>Среднее агенство (51-200)</td>\n",
       "      <td>АН</td>\n",
       "    </tr>\n",
       "    <tr>\n",
       "      <th>6</th>\n",
       "      <td>Частный маклер (2-3)</td>\n",
       "      <td>SMB</td>\n",
       "    </tr>\n",
       "  </tbody>\n",
       "</table>\n",
       "</div>"
      ],
      "text/plain": [
       "                      Category Segment\n",
       "0  Большое агенство (201-1000)      АН\n",
       "1     Крупное агенство (1000+)      АН\n",
       "2         Крупный маклер (4-9)     SMB\n",
       "3       Малое агенство (10-50)     SMB\n",
       "4              Собственник (1)   Owner\n",
       "5    Среднее агенство (51-200)      АН\n",
       "6         Частный маклер (2-3)     SMB"
      ]
     },
     "execution_count": 39,
     "metadata": {},
     "output_type": "execute_result"
    }
   ],
   "source": [
    "cat = pd.read_csv('cat.csv', encoding='Windows-1251', sep = ';')\n",
    "cat"
   ]
  },
  {
   "cell_type": "code",
   "execution_count": 40,
   "metadata": {},
   "outputs": [
    {
     "data": {
      "text/html": [
       "<div>\n",
       "<style scoped>\n",
       "    .dataframe tbody tr th:only-of-type {\n",
       "        vertical-align: middle;\n",
       "    }\n",
       "\n",
       "    .dataframe tbody tr th {\n",
       "        vertical-align: top;\n",
       "    }\n",
       "\n",
       "    .dataframe thead th {\n",
       "        text-align: right;\n",
       "    }\n",
       "</style>\n",
       "<table border=\"1\" class=\"dataframe\">\n",
       "  <thead>\n",
       "    <tr style=\"text-align: right;\">\n",
       "      <th></th>\n",
       "      <th>Company</th>\n",
       "      <th>Client</th>\n",
       "      <th>Region</th>\n",
       "      <th>Deal_type</th>\n",
       "      <th>Estate_type</th>\n",
       "      <th>Rubric</th>\n",
       "      <th>Content</th>\n",
       "      <th>start</th>\n",
       "      <th>end</th>\n",
       "      <th>Segment</th>\n",
       "    </tr>\n",
       "  </thead>\n",
       "  <tbody>\n",
       "    <tr>\n",
       "      <th>0</th>\n",
       "      <td>Игрок 1</td>\n",
       "      <td>Большое агенство (201-1000)</td>\n",
       "      <td>Челябинск</td>\n",
       "      <td>Аренда</td>\n",
       "      <td>Городская</td>\n",
       "      <td>Долгосрочная</td>\n",
       "      <td>69</td>\n",
       "      <td>2018-01-01</td>\n",
       "      <td>2018-01-07</td>\n",
       "      <td>АН</td>\n",
       "    </tr>\n",
       "    <tr>\n",
       "      <th>1</th>\n",
       "      <td>Игрок 1</td>\n",
       "      <td>Большое агенство (201-1000)</td>\n",
       "      <td>Челябинск</td>\n",
       "      <td>Аренда</td>\n",
       "      <td>Городская</td>\n",
       "      <td>Долгосрочная</td>\n",
       "      <td>63</td>\n",
       "      <td>2018-01-08</td>\n",
       "      <td>2018-01-14</td>\n",
       "      <td>АН</td>\n",
       "    </tr>\n",
       "    <tr>\n",
       "      <th>2</th>\n",
       "      <td>Игрок 1</td>\n",
       "      <td>Большое агенство (201-1000)</td>\n",
       "      <td>Челябинск</td>\n",
       "      <td>Аренда</td>\n",
       "      <td>Городская</td>\n",
       "      <td>Долгосрочная</td>\n",
       "      <td>81</td>\n",
       "      <td>2018-01-15</td>\n",
       "      <td>2018-01-21</td>\n",
       "      <td>АН</td>\n",
       "    </tr>\n",
       "  </tbody>\n",
       "</table>\n",
       "</div>"
      ],
      "text/plain": [
       "   Company                       Client     Region Deal_type Estate_type  \\\n",
       "0  Игрок 1  Большое агенство (201-1000)  Челябинск    Аренда   Городская   \n",
       "1  Игрок 1  Большое агенство (201-1000)  Челябинск    Аренда   Городская   \n",
       "2  Игрок 1  Большое агенство (201-1000)  Челябинск    Аренда   Городская   \n",
       "\n",
       "         Rubric  Content      start        end Segment  \n",
       "0  Долгосрочная       69 2018-01-01 2018-01-07      АН  \n",
       "1  Долгосрочная       63 2018-01-08 2018-01-14      АН  \n",
       "2  Долгосрочная       81 2018-01-15 2018-01-21      АН  "
      ]
     },
     "execution_count": 40,
     "metadata": {},
     "output_type": "execute_result"
    }
   ],
   "source": [
    "df = df.merge(cat, left_on = 'Client', right_on = 'Category').drop(columns = 'Category')\n",
    "df.head(3)"
   ]
  },
  {
   "cell_type": "code",
   "execution_count": 41,
   "metadata": {},
   "outputs": [],
   "source": [
    "#df.to_excel('cian_prepared.xlsx')"
   ]
  },
  {
   "cell_type": "code",
   "execution_count": 42,
   "metadata": {},
   "outputs": [
    {
     "data": {
      "text/html": [
       "<div>\n",
       "<style scoped>\n",
       "    .dataframe tbody tr th:only-of-type {\n",
       "        vertical-align: middle;\n",
       "    }\n",
       "\n",
       "    .dataframe tbody tr th {\n",
       "        vertical-align: top;\n",
       "    }\n",
       "\n",
       "    .dataframe thead th {\n",
       "        text-align: right;\n",
       "    }\n",
       "</style>\n",
       "<table border=\"1\" class=\"dataframe\">\n",
       "  <thead>\n",
       "    <tr style=\"text-align: right;\">\n",
       "      <th></th>\n",
       "      <th>Company</th>\n",
       "      <th>start</th>\n",
       "      <th>Deals_number</th>\n",
       "    </tr>\n",
       "  </thead>\n",
       "  <tbody>\n",
       "    <tr>\n",
       "      <th>0</th>\n",
       "      <td>Игрок 1</td>\n",
       "      <td>2018-01-01</td>\n",
       "      <td>536</td>\n",
       "    </tr>\n",
       "    <tr>\n",
       "      <th>1</th>\n",
       "      <td>Игрок 1</td>\n",
       "      <td>2018-01-08</td>\n",
       "      <td>555</td>\n",
       "    </tr>\n",
       "    <tr>\n",
       "      <th>2</th>\n",
       "      <td>Игрок 1</td>\n",
       "      <td>2018-01-15</td>\n",
       "      <td>539</td>\n",
       "    </tr>\n",
       "  </tbody>\n",
       "</table>\n",
       "</div>"
      ],
      "text/plain": [
       "   Company      start  Deals_number\n",
       "0  Игрок 1 2018-01-01           536\n",
       "1  Игрок 1 2018-01-08           555\n",
       "2  Игрок 1 2018-01-15           539"
      ]
     },
     "execution_count": 42,
     "metadata": {},
     "output_type": "execute_result"
    }
   ],
   "source": [
    "# Количество сделок по неделям\n",
    "df1 = df.groupby(['Company','start'], as_index = False).agg({'Content':'count'}).rename(columns = {'Content':'Deals_number'})\n",
    "df1.head(3)"
   ]
  },
  {
   "cell_type": "code",
   "execution_count": 43,
   "metadata": {},
   "outputs": [
    {
     "data": {
      "text/plain": [
       "<matplotlib.axes._subplots.AxesSubplot at 0x7f116c38efd0>"
      ]
     },
     "execution_count": 43,
     "metadata": {},
     "output_type": "execute_result"
    },
    {
     "data": {
      "image/png": "[encoded data removed]",
      "text/plain": [
       "<Figure size 432x288 with 1 Axes>"
      ]
     },
     "metadata": {
      "needs_background": "light"
     },
     "output_type": "display_data"
    }
   ],
   "source": [
    "sns.lineplot(data = df1,\n",
    "            x = 'start',\n",
    "            y = 'Deals_number',\n",
    "            hue = 'Company')"
   ]
  },
  {
   "cell_type": "code",
   "execution_count": 44,
   "metadata": {},
   "outputs": [
    {
     "data": {
      "text/html": [
       "<div>\n",
       "<style scoped>\n",
       "    .dataframe tbody tr th:only-of-type {\n",
       "        vertical-align: middle;\n",
       "    }\n",
       "\n",
       "    .dataframe tbody tr th {\n",
       "        vertical-align: top;\n",
       "    }\n",
       "\n",
       "    .dataframe thead th {\n",
       "        text-align: right;\n",
       "    }\n",
       "</style>\n",
       "<table border=\"1\" class=\"dataframe\">\n",
       "  <thead>\n",
       "    <tr style=\"text-align: right;\">\n",
       "      <th></th>\n",
       "      <th>Company</th>\n",
       "      <th>start</th>\n",
       "      <th>Deals_number</th>\n",
       "    </tr>\n",
       "  </thead>\n",
       "  <tbody>\n",
       "    <tr>\n",
       "      <th>26</th>\n",
       "      <td>Игрок 1</td>\n",
       "      <td>2018-07-09</td>\n",
       "      <td>385</td>\n",
       "    </tr>\n",
       "    <tr>\n",
       "      <th>27</th>\n",
       "      <td>Игрок 1</td>\n",
       "      <td>2018-07-16</td>\n",
       "      <td>384</td>\n",
       "    </tr>\n",
       "    <tr>\n",
       "      <th>28</th>\n",
       "      <td>Игрок 1</td>\n",
       "      <td>2018-07-23</td>\n",
       "      <td>384</td>\n",
       "    </tr>\n",
       "    <tr>\n",
       "      <th>29</th>\n",
       "      <td>Игрок 1</td>\n",
       "      <td>2018-07-30</td>\n",
       "      <td>382</td>\n",
       "    </tr>\n",
       "    <tr>\n",
       "      <th>30</th>\n",
       "      <td>Игрок 1</td>\n",
       "      <td>2018-08-06</td>\n",
       "      <td>381</td>\n",
       "    </tr>\n",
       "    <tr>\n",
       "      <th>31</th>\n",
       "      <td>Игрок 1</td>\n",
       "      <td>2018-08-13</td>\n",
       "      <td>383</td>\n",
       "    </tr>\n",
       "    <tr>\n",
       "      <th>32</th>\n",
       "      <td>Игрок 1</td>\n",
       "      <td>2018-08-20</td>\n",
       "      <td>383</td>\n",
       "    </tr>\n",
       "    <tr>\n",
       "      <th>33</th>\n",
       "      <td>Игрок 1</td>\n",
       "      <td>2018-08-27</td>\n",
       "      <td>382</td>\n",
       "    </tr>\n",
       "  </tbody>\n",
       "</table>\n",
       "</div>"
      ],
      "text/plain": [
       "    Company      start  Deals_number\n",
       "26  Игрок 1 2018-07-09           385\n",
       "27  Игрок 1 2018-07-16           384\n",
       "28  Игрок 1 2018-07-23           384\n",
       "29  Игрок 1 2018-07-30           382\n",
       "30  Игрок 1 2018-08-06           381\n",
       "31  Игрок 1 2018-08-13           383\n",
       "32  Игрок 1 2018-08-20           383\n",
       "33  Игрок 1 2018-08-27           382"
      ]
     },
     "execution_count": 44,
     "metadata": {},
     "output_type": "execute_result"
    }
   ],
   "source": [
    "# Период провала в данных для игрока 1\n",
    "df1.query('Deals_number < 400').sort_values('start')"
   ]
  },
  {
   "cell_type": "markdown",
   "metadata": {},
   "source": [
    "Возможно, на неделях, начинавшизся 9 июля по 27 августа, у игрока №2 происходили сбои с записью информации. Необходимо проверить, действительно ли были сбои. Для дальнейшего анализа отбросим "
   ]
  },
  {
   "cell_type": "markdown",
   "metadata": {},
   "source": [
    "## Расчет среднего количество сделок на регион и очистка датасета"
   ]
  },
  {
   "cell_type": "code",
   "execution_count": 45,
   "metadata": {},
   "outputs": [],
   "source": [
    "# Подсчет количество сделок в неделю для игроков во всех сегментах (тип сделки, тип жилья, длительность аренды, регион, тип клиента)\n",
    "df_count = df \\\n",
    "        .groupby(['Company', 'Deal_type','Estate_type','Rubric', 'Segment','Region','start'], as_index = False) \\\n",
    "        .agg({'end':'count'}) \\\n",
    "        .rename(columns = {'end':'deals_num'})"
   ]
  },
  {
   "cell_type": "code",
   "execution_count": 46,
   "metadata": {},
   "outputs": [
    {
     "data": {
      "text/plain": [
       "array([0.        , 0.10101525, 0.10101525, 0.10101525])"
      ]
     },
     "execution_count": 46,
     "metadata": {},
     "output_type": "execute_result"
    }
   ],
   "source": [
    "# Подсчет стандартного отклонения между недельными средними количествами сделок на регион во всех сегментах\n",
    "#(тип сделки, тип жилья, длительность аренды, регион, тип клиента)\n",
    "\n",
    "df_std = df_count \\\n",
    "    .groupby(['Company', 'Deal_type','Estate_type','Rubric', 'Segment','Region'], as_index = False) \\\n",
    "    .agg({'deals_num':'std'}) \\\n",
    "    .rename(columns = {'deals_num':'deals_std'})\n",
    "\n",
    "df_std.query('deals_std<= 0.11').deals_std.unique()"
   ]
  },
  {
   "cell_type": "markdown",
   "metadata": {},
   "source": [
    "Стандартное отклонение средних количеств сделок по региону, равное нулю означает, что каждую неделю в игрок вносил в базу одно и то же количество сделок в сегменте. То, что количество сделок было одинаково каждую неделю на протяжении почти двух лет, выглядит маловероятным. Поэтому мы отбросим данные для таких регионов и сегментов. Таже отбросим данные с SD < 0.11 - для таких регионов в сегменте Игрок внес только одно отличающееся от остальных значение"
   ]
  },
  {
   "cell_type": "code",
   "execution_count": 47,
   "metadata": {},
   "outputs": [],
   "source": [
    "df_count = df_count \\\n",
    "        .merge(df_std, on = ['Company', 'Deal_type','Estate_type','Rubric', 'Segment','Region'])"
   ]
  },
  {
   "cell_type": "code",
   "execution_count": 48,
   "metadata": {},
   "outputs": [
    {
     "data": {
      "text/plain": [
       "14221"
      ]
     },
     "execution_count": 48,
     "metadata": {},
     "output_type": "execute_result"
    }
   ],
   "source": [
    "len(df_count.query('deals_std > 0.11'))"
   ]
  },
  {
   "cell_type": "code",
   "execution_count": 49,
   "metadata": {},
   "outputs": [],
   "source": [
    "# Агрегируем данные в сегментах:\n",
    "# в каждую неделю в каждом сегменте сложим количество всех сделок во всех регионах для каждого игрока\n",
    "# и поделим на количество регионов\n",
    "\n",
    "# Тажке запишем количество количество регионов, в которых были проведены сделки в эту неделю для каждого игрока (ок регионы)\n",
    "\n",
    "deals_per_reg = df_count.query('deals_std > 0.11') \\\n",
    "    .groupby(['Company', 'Deal_type','Estate_type','Rubric', 'Segment', 'start'], as_index = False) \\\n",
    "    .agg({'deals_num':'mean', 'Region':'nunique'}) \\\n",
    "    .rename(columns = {'deals_num':'avg_deals_per_region', 'Region':'ok_regions_num'})"
   ]
  },
  {
   "cell_type": "code",
   "execution_count": 50,
   "metadata": {},
   "outputs": [],
   "source": [
    "# Тажке запишем количество количество регионов, в которых были проведены сделки в эту неделю для каждого игрока\n",
    "# в полном датасете (все регионы)\n",
    "\n",
    "tot_deals_per_reg = df_count \\\n",
    "    .groupby(['Company', 'Deal_type','Estate_type','Rubric', 'Segment', 'start'], as_index = False) \\\n",
    "    .agg({'deals_num':'mean', 'Region':'nunique'}) \\\n",
    "    .rename(columns = {'deals_num':'tot_deals_per_region', 'Region':'tot_regions_num'})"
   ]
  },
  {
   "cell_type": "code",
   "execution_count": 51,
   "metadata": {},
   "outputs": [],
   "source": [
    "deals_per_reg = deals_per_reg \\\n",
    "    .merge(tot_deals_per_reg.drop(columns = 'tot_deals_per_region'),\n",
    "           on = ['Company', 'Deal_type','Estate_type','Rubric', 'Segment', 'start'])"
   ]
  },
  {
   "cell_type": "code",
   "execution_count": 52,
   "metadata": {},
   "outputs": [
    {
     "data": {
      "text/html": [
       "<div>\n",
       "<style scoped>\n",
       "    .dataframe tbody tr th:only-of-type {\n",
       "        vertical-align: middle;\n",
       "    }\n",
       "\n",
       "    .dataframe tbody tr th {\n",
       "        vertical-align: top;\n",
       "    }\n",
       "\n",
       "    .dataframe thead th {\n",
       "        text-align: right;\n",
       "    }\n",
       "</style>\n",
       "<table border=\"1\" class=\"dataframe\">\n",
       "  <thead>\n",
       "    <tr style=\"text-align: right;\">\n",
       "      <th></th>\n",
       "      <th>Company</th>\n",
       "      <th>Deal_type</th>\n",
       "      <th>Estate_type</th>\n",
       "      <th>Rubric</th>\n",
       "      <th>Segment</th>\n",
       "      <th>start</th>\n",
       "      <th>avg_deals_per_region</th>\n",
       "      <th>ok_regions_num</th>\n",
       "      <th>tot_regions_num</th>\n",
       "    </tr>\n",
       "  </thead>\n",
       "  <tbody>\n",
       "    <tr>\n",
       "      <th>0</th>\n",
       "      <td>Игрок 1</td>\n",
       "      <td>Аренда</td>\n",
       "      <td>Городская</td>\n",
       "      <td>Долгосрочная</td>\n",
       "      <td>АН</td>\n",
       "      <td>2018-01-01</td>\n",
       "      <td>2.444444</td>\n",
       "      <td>9</td>\n",
       "      <td>15</td>\n",
       "    </tr>\n",
       "    <tr>\n",
       "      <th>1</th>\n",
       "      <td>Игрок 1</td>\n",
       "      <td>Аренда</td>\n",
       "      <td>Городская</td>\n",
       "      <td>Долгосрочная</td>\n",
       "      <td>АН</td>\n",
       "      <td>2018-01-08</td>\n",
       "      <td>2.888889</td>\n",
       "      <td>9</td>\n",
       "      <td>15</td>\n",
       "    </tr>\n",
       "    <tr>\n",
       "      <th>2</th>\n",
       "      <td>Игрок 1</td>\n",
       "      <td>Аренда</td>\n",
       "      <td>Городская</td>\n",
       "      <td>Долгосрочная</td>\n",
       "      <td>АН</td>\n",
       "      <td>2018-01-15</td>\n",
       "      <td>2.444444</td>\n",
       "      <td>9</td>\n",
       "      <td>15</td>\n",
       "    </tr>\n",
       "    <tr>\n",
       "      <th>3</th>\n",
       "      <td>Игрок 1</td>\n",
       "      <td>Аренда</td>\n",
       "      <td>Городская</td>\n",
       "      <td>Долгосрочная</td>\n",
       "      <td>АН</td>\n",
       "      <td>2018-01-22</td>\n",
       "      <td>2.333333</td>\n",
       "      <td>9</td>\n",
       "      <td>15</td>\n",
       "    </tr>\n",
       "    <tr>\n",
       "      <th>4</th>\n",
       "      <td>Игрок 1</td>\n",
       "      <td>Аренда</td>\n",
       "      <td>Городская</td>\n",
       "      <td>Долгосрочная</td>\n",
       "      <td>АН</td>\n",
       "      <td>2018-01-29</td>\n",
       "      <td>2.222222</td>\n",
       "      <td>9</td>\n",
       "      <td>15</td>\n",
       "    </tr>\n",
       "    <tr>\n",
       "      <th>...</th>\n",
       "      <td>...</td>\n",
       "      <td>...</td>\n",
       "      <td>...</td>\n",
       "      <td>...</td>\n",
       "      <td>...</td>\n",
       "      <td>...</td>\n",
       "      <td>...</td>\n",
       "      <td>...</td>\n",
       "      <td>...</td>\n",
       "    </tr>\n",
       "    <tr>\n",
       "      <th>1637</th>\n",
       "      <td>Игрок 2</td>\n",
       "      <td>Продажа</td>\n",
       "      <td>Загородная</td>\n",
       "      <td>Вторичка</td>\n",
       "      <td>АН</td>\n",
       "      <td>2019-10-21</td>\n",
       "      <td>2.750000</td>\n",
       "      <td>8</td>\n",
       "      <td>16</td>\n",
       "    </tr>\n",
       "    <tr>\n",
       "      <th>1638</th>\n",
       "      <td>Игрок 2</td>\n",
       "      <td>Продажа</td>\n",
       "      <td>Загородная</td>\n",
       "      <td>Вторичка</td>\n",
       "      <td>АН</td>\n",
       "      <td>2019-10-28</td>\n",
       "      <td>2.875000</td>\n",
       "      <td>8</td>\n",
       "      <td>16</td>\n",
       "    </tr>\n",
       "    <tr>\n",
       "      <th>1639</th>\n",
       "      <td>Игрок 2</td>\n",
       "      <td>Продажа</td>\n",
       "      <td>Загородная</td>\n",
       "      <td>Вторичка</td>\n",
       "      <td>АН</td>\n",
       "      <td>2019-11-04</td>\n",
       "      <td>2.875000</td>\n",
       "      <td>8</td>\n",
       "      <td>16</td>\n",
       "    </tr>\n",
       "    <tr>\n",
       "      <th>1640</th>\n",
       "      <td>Игрок 2</td>\n",
       "      <td>Продажа</td>\n",
       "      <td>Загородная</td>\n",
       "      <td>Вторичка</td>\n",
       "      <td>АН</td>\n",
       "      <td>2019-11-11</td>\n",
       "      <td>2.750000</td>\n",
       "      <td>8</td>\n",
       "      <td>16</td>\n",
       "    </tr>\n",
       "    <tr>\n",
       "      <th>1641</th>\n",
       "      <td>Игрок 2</td>\n",
       "      <td>Продажа</td>\n",
       "      <td>Загородная</td>\n",
       "      <td>Вторичка</td>\n",
       "      <td>АН</td>\n",
       "      <td>2019-11-18</td>\n",
       "      <td>2.750000</td>\n",
       "      <td>8</td>\n",
       "      <td>16</td>\n",
       "    </tr>\n",
       "  </tbody>\n",
       "</table>\n",
       "<p>1544 rows × 9 columns</p>\n",
       "</div>"
      ],
      "text/plain": [
       "      Company Deal_type Estate_type        Rubric Segment      start  \\\n",
       "0     Игрок 1    Аренда   Городская  Долгосрочная      АН 2018-01-01   \n",
       "1     Игрок 1    Аренда   Городская  Долгосрочная      АН 2018-01-08   \n",
       "2     Игрок 1    Аренда   Городская  Долгосрочная      АН 2018-01-15   \n",
       "3     Игрок 1    Аренда   Городская  Долгосрочная      АН 2018-01-22   \n",
       "4     Игрок 1    Аренда   Городская  Долгосрочная      АН 2018-01-29   \n",
       "...       ...       ...         ...           ...     ...        ...   \n",
       "1637  Игрок 2   Продажа  Загородная      Вторичка      АН 2019-10-21   \n",
       "1638  Игрок 2   Продажа  Загородная      Вторичка      АН 2019-10-28   \n",
       "1639  Игрок 2   Продажа  Загородная      Вторичка      АН 2019-11-04   \n",
       "1640  Игрок 2   Продажа  Загородная      Вторичка      АН 2019-11-11   \n",
       "1641  Игрок 2   Продажа  Загородная      Вторичка      АН 2019-11-18   \n",
       "\n",
       "      avg_deals_per_region  ok_regions_num  tot_regions_num  \n",
       "0                 2.444444               9               15  \n",
       "1                 2.888889               9               15  \n",
       "2                 2.444444               9               15  \n",
       "3                 2.333333               9               15  \n",
       "4                 2.222222               9               15  \n",
       "...                    ...             ...              ...  \n",
       "1637              2.750000               8               16  \n",
       "1638              2.875000               8               16  \n",
       "1639              2.875000               8               16  \n",
       "1640              2.750000               8               16  \n",
       "1641              2.750000               8               16  \n",
       "\n",
       "[1544 rows x 9 columns]"
      ]
     },
     "execution_count": 52,
     "metadata": {},
     "output_type": "execute_result"
    }
   ],
   "source": [
    "# Для анализа отбросим сегмент, в котором были представлены результаты лишь для одного игрока\n",
    "\n",
    "qr = '(Company !=\"Игрок 2\")|(Segment != \"SMB\")|(Estate_type != \"Городская\")|(Deal_type != \"Аренда\")|(Rubric != \"Посуточная\")'\n",
    "\n",
    "deals_per_reg.query(qr)"
   ]
  },
  {
   "cell_type": "code",
   "execution_count": 53,
   "metadata": {},
   "outputs": [],
   "source": [
    "# Финальный датасет\n",
    "fin = deals_per_reg.query(qr)"
   ]
  },
  {
   "cell_type": "code",
   "execution_count": 54,
   "metadata": {},
   "outputs": [],
   "source": [
    "#fin.to_excel('deals_per_reg_pairs.xlsx')"
   ]
  },
  {
   "cell_type": "markdown",
   "metadata": {},
   "source": [
    "## Статистический анализ"
   ]
  },
  {
   "cell_type": "markdown",
   "metadata": {},
   "source": [
    "### Суммарное количество сделок по аренде и продажам"
   ]
  },
  {
   "cell_type": "code",
   "execution_count": 152,
   "metadata": {},
   "outputs": [],
   "source": [
    "# Объявим функцию, которая позволит проверять гипотезы с помощью бутстрапа\n",
    "def get_bootstrap(\n",
    "    data_column_1, # числовые значения первой выборки\n",
    "    data_column_2, # числовые значения второй выборки\n",
    "    boot_it = 1000, # количество бутстрэп-подвыборок\n",
    "    statistic = np.mean, # интересующая нас статистика\n",
    "    bootstrap_conf_level = 0.95 # уровень значимости\n",
    "):\n",
    "    boot_len = min([len(data_column_1), len(data_column_2)])\n",
    "    boot_data = []\n",
    "    for i in tqdm(range(boot_it)): # извлекаем подвыборки\n",
    "        samples_1 = data_column_1.sample(\n",
    "            boot_len, \n",
    "            replace = True # параметр возвращения\n",
    "        ).values\n",
    "        \n",
    "        samples_2 = data_column_2.sample(\n",
    "            boot_len, \n",
    "            replace = True\n",
    "        ).values\n",
    "        \n",
    "        boot_data.append(statistic(samples_1-samples_2)) # mean() - применяем статистику\n",
    "        \n",
    "    pd_boot_data = pd.DataFrame(boot_data)\n",
    "        \n",
    "    left_quant = (1 - bootstrap_conf_level)/2\n",
    "    right_quant = 1 - (1 - bootstrap_conf_level) / 2\n",
    "    ci = pd_boot_data.quantile([left_quant, right_quant])\n",
    "        \n",
    "    p_1 = norm.cdf(\n",
    "        loc = 0, \n",
    "        x = np.mean(boot_data), \n",
    "        scale = np.std(boot_data)\n",
    "    )\n",
    "    p_2 = norm.cdf(\n",
    "        loc = 0, \n",
    "        x = -np.mean(boot_data), \n",
    "        scale = np.std(boot_data)\n",
    "    )\n",
    "    p_value = min(p_1, p_2) * 2\n",
    "        \n",
    "    # Визуализация\n",
    "    plt.hist(pd_boot_data[0], bins = 50)\n",
    "    \n",
    "    plt.style.use('ggplot')\n",
    "    plt.vlines(ci,ymin=0,ymax=50,linestyle='--')\n",
    "    plt.xlabel('boot_data')\n",
    "    plt.ylabel('frequency')\n",
    "    plt.title(\"Histogram of boot_data\")\n",
    "    plt.show()\n",
    "       \n",
    "    return { \n",
    "            \"ci\": ci, \n",
    "            \"p_value\": p_value}"
   ]
  },
  {
   "cell_type": "code",
   "execution_count": 75,
   "metadata": {},
   "outputs": [
    {
     "data": {
      "text/html": [
       "<div>\n",
       "<style scoped>\n",
       "    .dataframe tbody tr th:only-of-type {\n",
       "        vertical-align: middle;\n",
       "    }\n",
       "\n",
       "    .dataframe tbody tr th {\n",
       "        vertical-align: top;\n",
       "    }\n",
       "\n",
       "    .dataframe thead th {\n",
       "        text-align: right;\n",
       "    }\n",
       "</style>\n",
       "<table border=\"1\" class=\"dataframe\">\n",
       "  <thead>\n",
       "    <tr style=\"text-align: right;\">\n",
       "      <th></th>\n",
       "      <th>Company</th>\n",
       "      <th>Deal_type</th>\n",
       "      <th>Estate_type</th>\n",
       "      <th>Rubric</th>\n",
       "      <th>Segment</th>\n",
       "      <th>start</th>\n",
       "      <th>avg_deals_per_region</th>\n",
       "      <th>ok_regions_num</th>\n",
       "      <th>tot_regions_num</th>\n",
       "    </tr>\n",
       "  </thead>\n",
       "  <tbody>\n",
       "    <tr>\n",
       "      <th>0</th>\n",
       "      <td>Игрок 1</td>\n",
       "      <td>Аренда</td>\n",
       "      <td>Городская</td>\n",
       "      <td>Долгосрочная</td>\n",
       "      <td>АН</td>\n",
       "      <td>2018-01-01</td>\n",
       "      <td>2.444444</td>\n",
       "      <td>9</td>\n",
       "      <td>15</td>\n",
       "    </tr>\n",
       "    <tr>\n",
       "      <th>1</th>\n",
       "      <td>Игрок 1</td>\n",
       "      <td>Аренда</td>\n",
       "      <td>Городская</td>\n",
       "      <td>Долгосрочная</td>\n",
       "      <td>АН</td>\n",
       "      <td>2018-01-08</td>\n",
       "      <td>2.888889</td>\n",
       "      <td>9</td>\n",
       "      <td>15</td>\n",
       "    </tr>\n",
       "    <tr>\n",
       "      <th>2</th>\n",
       "      <td>Игрок 1</td>\n",
       "      <td>Аренда</td>\n",
       "      <td>Городская</td>\n",
       "      <td>Долгосрочная</td>\n",
       "      <td>АН</td>\n",
       "      <td>2018-01-15</td>\n",
       "      <td>2.444444</td>\n",
       "      <td>9</td>\n",
       "      <td>15</td>\n",
       "    </tr>\n",
       "    <tr>\n",
       "      <th>3</th>\n",
       "      <td>Игрок 1</td>\n",
       "      <td>Аренда</td>\n",
       "      <td>Городская</td>\n",
       "      <td>Долгосрочная</td>\n",
       "      <td>АН</td>\n",
       "      <td>2018-01-22</td>\n",
       "      <td>2.333333</td>\n",
       "      <td>9</td>\n",
       "      <td>15</td>\n",
       "    </tr>\n",
       "    <tr>\n",
       "      <th>4</th>\n",
       "      <td>Игрок 1</td>\n",
       "      <td>Аренда</td>\n",
       "      <td>Городская</td>\n",
       "      <td>Долгосрочная</td>\n",
       "      <td>АН</td>\n",
       "      <td>2018-01-29</td>\n",
       "      <td>2.222222</td>\n",
       "      <td>9</td>\n",
       "      <td>15</td>\n",
       "    </tr>\n",
       "  </tbody>\n",
       "</table>\n",
       "</div>"
      ],
      "text/plain": [
       "   Company Deal_type Estate_type        Rubric Segment      start  \\\n",
       "0  Игрок 1    Аренда   Городская  Долгосрочная      АН 2018-01-01   \n",
       "1  Игрок 1    Аренда   Городская  Долгосрочная      АН 2018-01-08   \n",
       "2  Игрок 1    Аренда   Городская  Долгосрочная      АН 2018-01-15   \n",
       "3  Игрок 1    Аренда   Городская  Долгосрочная      АН 2018-01-22   \n",
       "4  Игрок 1    Аренда   Городская  Долгосрочная      АН 2018-01-29   \n",
       "\n",
       "   avg_deals_per_region  ok_regions_num  tot_regions_num  \n",
       "0              2.444444               9               15  \n",
       "1              2.888889               9               15  \n",
       "2              2.444444               9               15  \n",
       "3              2.333333               9               15  \n",
       "4              2.222222               9               15  "
      ]
     },
     "execution_count": 75,
     "metadata": {},
     "output_type": "execute_result"
    }
   ],
   "source": [
    "fin.head()"
   ]
  },
  {
   "cell_type": "code",
   "execution_count": 147,
   "metadata": {},
   "outputs": [
    {
     "data": {
      "text/html": [
       "<div>\n",
       "<style scoped>\n",
       "    .dataframe tbody tr th:only-of-type {\n",
       "        vertical-align: middle;\n",
       "    }\n",
       "\n",
       "    .dataframe tbody tr th {\n",
       "        vertical-align: top;\n",
       "    }\n",
       "\n",
       "    .dataframe thead th {\n",
       "        text-align: right;\n",
       "    }\n",
       "</style>\n",
       "<table border=\"1\" class=\"dataframe\">\n",
       "  <thead>\n",
       "    <tr style=\"text-align: right;\">\n",
       "      <th>Company</th>\n",
       "      <th>Игрок 1</th>\n",
       "      <th>Игрок 2</th>\n",
       "    </tr>\n",
       "  </thead>\n",
       "  <tbody>\n",
       "    <tr>\n",
       "      <th>564</th>\n",
       "      <td>2.500</td>\n",
       "      <td>NaN</td>\n",
       "    </tr>\n",
       "    <tr>\n",
       "      <th>565</th>\n",
       "      <td>3.000</td>\n",
       "      <td>NaN</td>\n",
       "    </tr>\n",
       "    <tr>\n",
       "      <th>566</th>\n",
       "      <td>2.625</td>\n",
       "      <td>NaN</td>\n",
       "    </tr>\n",
       "    <tr>\n",
       "      <th>567</th>\n",
       "      <td>2.625</td>\n",
       "      <td>NaN</td>\n",
       "    </tr>\n",
       "    <tr>\n",
       "      <th>568</th>\n",
       "      <td>2.625</td>\n",
       "      <td>NaN</td>\n",
       "    </tr>\n",
       "    <tr>\n",
       "      <th>...</th>\n",
       "      <td>...</td>\n",
       "      <td>...</td>\n",
       "    </tr>\n",
       "    <tr>\n",
       "      <th>1637</th>\n",
       "      <td>NaN</td>\n",
       "      <td>2.750</td>\n",
       "    </tr>\n",
       "    <tr>\n",
       "      <th>1638</th>\n",
       "      <td>NaN</td>\n",
       "      <td>2.875</td>\n",
       "    </tr>\n",
       "    <tr>\n",
       "      <th>1639</th>\n",
       "      <td>NaN</td>\n",
       "      <td>2.875</td>\n",
       "    </tr>\n",
       "    <tr>\n",
       "      <th>1640</th>\n",
       "      <td>NaN</td>\n",
       "      <td>2.750</td>\n",
       "    </tr>\n",
       "    <tr>\n",
       "      <th>1641</th>\n",
       "      <td>NaN</td>\n",
       "      <td>2.750</td>\n",
       "    </tr>\n",
       "  </tbody>\n",
       "</table>\n",
       "<p>392 rows × 2 columns</p>\n",
       "</div>"
      ],
      "text/plain": [
       "Company  Игрок 1  Игрок 2\n",
       "564        2.500      NaN\n",
       "565        3.000      NaN\n",
       "566        2.625      NaN\n",
       "567        2.625      NaN\n",
       "568        2.625      NaN\n",
       "...          ...      ...\n",
       "1637         NaN    2.750\n",
       "1638         NaN    2.875\n",
       "1639         NaN    2.875\n",
       "1640         NaN    2.750\n",
       "1641         NaN    2.750\n",
       "\n",
       "[392 rows x 2 columns]"
      ]
     },
     "execution_count": 147,
     "metadata": {},
     "output_type": "execute_result"
    }
   ],
   "source": [
    "rent = fin.query('Deal_type == \"Аренда\"')[['avg_deals_per_region', 'Company']].pivot(columns = 'Company', values = 'avg_deals_per_region')\n",
    "rent\n",
    "\n",
    "sales = fin.query('Deal_type == \"Продажа\"')[['avg_deals_per_region', 'Company']].pivot(columns = 'Company', values = 'avg_deals_per_region')\n",
    "sales"
   ]
  },
  {
   "cell_type": "code",
   "execution_count": 76,
   "metadata": {},
   "outputs": [],
   "source": [
    "segments = ['Company', 'Deal_type']\n",
    "\n",
    "totals = fin.groupby(segments, as_index = False).agg({'avg_deals_per_region':list})"
   ]
  },
  {
   "cell_type": "markdown",
   "metadata": {},
   "source": [
    "### Среднее количество сделок аренды"
   ]
  },
  {
   "cell_type": "code",
   "execution_count": 190,
   "metadata": {},
   "outputs": [
    {
     "data": {
      "text/plain": [
       "<matplotlib.axes._subplots.AxesSubplot at 0x7f1166b99438>"
      ]
     },
     "execution_count": 190,
     "metadata": {},
     "output_type": "execute_result"
    },
    {
     "data": {
      "image/png": "[encoded data removed]",
      "text/plain": [
       "<Figure size 432x288 with 1 Axes>"
      ]
     },
     "metadata": {},
     "output_type": "display_data"
    }
   ],
   "source": [
    "sns.histplot(rent['Игрок 1'])\n",
    "sns.histplot(rent['Игрок 2'], color = 'orange')"
   ]
  },
  {
   "cell_type": "code",
   "execution_count": 191,
   "metadata": {},
   "outputs": [
    {
     "data": {
      "text/plain": [
       "MannwhitneyuResult(statistic=8570.5, pvalue=1.4419393360836128e-18)"
      ]
     },
     "execution_count": 191,
     "metadata": {},
     "output_type": "execute_result"
    }
   ],
   "source": [
    "mannwhitneyu(rent['Игрок 1'].dropna().sample(100), rent['Игрок 2'].dropna().sample(100))"
   ]
  },
  {
   "cell_type": "code",
   "execution_count": 192,
   "metadata": {},
   "outputs": [
    {
     "data": {
      "application/vnd.jupyter.widget-view+json": {
       "model_id": "1f0425545293483ab532db109f4d6965",
       "version_major": 2,
       "version_minor": 0
      },
      "text/plain": [
       "HBox(children=(FloatProgress(value=0.0, max=1000.0), HTML(value='')))"
      ]
     },
     "metadata": {},
     "output_type": "display_data"
    },
    {
     "name": "stdout",
     "output_type": "stream",
     "text": [
      "\n"
     ]
    },
    {
     "data": {
      "image/png": "[encoded data removed]",
      "text/plain": [
       "<Figure size 432x288 with 1 Axes>"
      ]
     },
     "metadata": {},
     "output_type": "display_data"
    },
    {
     "data": {
      "text/plain": [
       "{'ci':          0\n",
       " 0.025  0.3\n",
       " 0.975  0.5,\n",
       " 'p_value': 1.3330419955623996e-18}"
      ]
     },
     "execution_count": 192,
     "metadata": {},
     "output_type": "execute_result"
    }
   ],
   "source": [
    "get_bootstrap(rent['Игрок 1'].dropna(), rent['Игрок 2'].dropna(), statistic = np.median)"
   ]
  },
  {
   "cell_type": "code",
   "execution_count": 153,
   "metadata": {},
   "outputs": [
    {
     "data": {
      "application/vnd.jupyter.widget-view+json": {
       "model_id": "699f9d09098948bcbe3b7f960238b3df",
       "version_major": 2,
       "version_minor": 0
      },
      "text/plain": [
       "HBox(children=(FloatProgress(value=0.0, max=1000.0), HTML(value='')))"
      ]
     },
     "metadata": {},
     "output_type": "display_data"
    },
    {
     "name": "stdout",
     "output_type": "stream",
     "text": [
      "\n"
     ]
    },
    {
     "data": {
      "image/png": "[encoded data removed]",
      "text/plain": [
       "<Figure size 432x288 with 1 Axes>"
      ]
     },
     "metadata": {},
     "output_type": "display_data"
    },
    {
     "data": {
      "text/plain": [
       "{'ci':               0\n",
       " 0.025 -0.010587\n",
       " 0.975  0.109686,\n",
       " 'p_value': 0.12153508337655834}"
      ]
     },
     "execution_count": 153,
     "metadata": {},
     "output_type": "execute_result"
    }
   ],
   "source": [
    "get_bootstrap(rent['Игрок 1'].dropna(), rent['Игрок 2'].dropna(), statistic = np.mean)"
   ]
  },
  {
   "cell_type": "markdown",
   "metadata": {},
   "source": [
    "### Среднее количество продаж"
   ]
  },
  {
   "cell_type": "code",
   "execution_count": 159,
   "metadata": {},
   "outputs": [
    {
     "data": {
      "text/plain": [
       "<matplotlib.axes._subplots.AxesSubplot at 0x7f1166d43ac8>"
      ]
     },
     "execution_count": 159,
     "metadata": {},
     "output_type": "execute_result"
    },
    {
     "data": {
      "image/png": "[encoded data removed]",
      "text/plain": [
       "<Figure size 432x288 with 1 Axes>"
      ]
     },
     "metadata": {},
     "output_type": "display_data"
    }
   ],
   "source": [
    "sns.histplot(sales['Игрок 1'])\n",
    "sns.histplot(sales['Игрок 2'], color = 'orange')"
   ]
  },
  {
   "cell_type": "code",
   "execution_count": 166,
   "metadata": {},
   "outputs": [
    {
     "data": {
      "text/plain": [
       "MannwhitneyuResult(statistic=618.0, pvalue=2.9764762965476446e-27)"
      ]
     },
     "execution_count": 166,
     "metadata": {},
     "output_type": "execute_result"
    }
   ],
   "source": [
    "mannwhitneyu(sales['Игрок 1'].dropna().sample(100), sales['Игрок 2'].dropna().sample(100))"
   ]
  },
  {
   "cell_type": "code",
   "execution_count": 193,
   "metadata": {},
   "outputs": [
    {
     "data": {
      "application/vnd.jupyter.widget-view+json": {
       "model_id": "bd742a031fa8428ba8bffbf9f2b7cb18",
       "version_major": 2,
       "version_minor": 0
      },
      "text/plain": [
       "HBox(children=(FloatProgress(value=0.0, max=1000.0), HTML(value='')))"
      ]
     },
     "metadata": {},
     "output_type": "display_data"
    },
    {
     "name": "stdout",
     "output_type": "stream",
     "text": [
      "\n"
     ]
    },
    {
     "data": {
      "image/png": "[encoded data removed]",
      "text/plain": [
       "<Figure size 432x288 with 1 Axes>"
      ]
     },
     "metadata": {},
     "output_type": "display_data"
    },
    {
     "data": {
      "text/plain": [
       "{'ci':               0\n",
       " 0.025  0.304432\n",
       " 0.975  0.494444,\n",
       " 'p_value': 6.890233266253611e-21}"
      ]
     },
     "execution_count": 193,
     "metadata": {},
     "output_type": "execute_result"
    }
   ],
   "source": [
    "get_bootstrap(sales['Игрок 1'].dropna(), sales['Игрок 2'].dropna(), statistic = np.median)"
   ]
  },
  {
   "cell_type": "code",
   "execution_count": 194,
   "metadata": {},
   "outputs": [
    {
     "data": {
      "application/vnd.jupyter.widget-view+json": {
       "model_id": "7fbb96ca24f3413bb3bf79334367a078",
       "version_major": 2,
       "version_minor": 0
      },
      "text/plain": [
       "HBox(children=(FloatProgress(value=0.0, max=1000.0), HTML(value='')))"
      ]
     },
     "metadata": {},
     "output_type": "display_data"
    },
    {
     "name": "stdout",
     "output_type": "stream",
     "text": [
      "\n"
     ]
    },
    {
     "data": {
      "image/png": "[encoded data removed]",
      "text/plain": [
       "<Figure size 432x288 with 1 Axes>"
      ]
     },
     "metadata": {},
     "output_type": "display_data"
    },
    {
     "data": {
      "text/plain": [
       "{'ci':               0\n",
       " 0.025  0.334734\n",
       " 0.975  0.450977,\n",
       " 'p_value': 4.363312595894404e-40}"
      ]
     },
     "execution_count": 194,
     "metadata": {},
     "output_type": "execute_result"
    }
   ],
   "source": [
    "get_bootstrap(sales['Игрок 1'].dropna(), sales['Игрок 2'].dropna(), statistic = np.mean)"
   ]
  },
  {
   "cell_type": "markdown",
   "metadata": {},
   "source": [
    "### Сравнение аренды в сегменте SMB"
   ]
  },
  {
   "cell_type": "code",
   "execution_count": 185,
   "metadata": {},
   "outputs": [],
   "source": [
    "SMB = fin.query('Segment == \"SMB\" ')[['avg_deals_per_region', 'Company']].pivot(columns = 'Company', values = 'avg_deals_per_region')"
   ]
  },
  {
   "cell_type": "code",
   "execution_count": 186,
   "metadata": {},
   "outputs": [
    {
     "data": {
      "text/plain": [
       "<matplotlib.axes._subplots.AxesSubplot at 0x7f1167014550>"
      ]
     },
     "execution_count": 186,
     "metadata": {},
     "output_type": "execute_result"
    },
    {
     "data": {
      "image/png": "[encoded data removed]",
      "text/plain": [
       "<Figure size 432x288 with 1 Axes>"
      ]
     },
     "metadata": {},
     "output_type": "display_data"
    }
   ],
   "source": [
    "sns.histplot(SMB['Игрок 1'])\n",
    "sns.histplot(SMB['Игрок 2'], color = 'orange')"
   ]
  },
  {
   "cell_type": "code",
   "execution_count": 187,
   "metadata": {},
   "outputs": [
    {
     "data": {
      "text/plain": [
       "MannwhitneyuResult(statistic=8089.0, pvalue=2.9568084999243146e-14)"
      ]
     },
     "execution_count": 187,
     "metadata": {},
     "output_type": "execute_result"
    }
   ],
   "source": [
    "mannwhitneyu(SMB['Игрок 1'].dropna().sample(100), SMB['Игрок 2'].dropna().sample(100))"
   ]
  },
  {
   "cell_type": "code",
   "execution_count": 188,
   "metadata": {},
   "outputs": [
    {
     "data": {
      "application/vnd.jupyter.widget-view+json": {
       "model_id": "5d7d754264aa4781934f47a5d26b9a8f",
       "version_major": 2,
       "version_minor": 0
      },
      "text/plain": [
       "HBox(children=(FloatProgress(value=0.0, max=1000.0), HTML(value='')))"
      ]
     },
     "metadata": {},
     "output_type": "display_data"
    },
    {
     "name": "stdout",
     "output_type": "stream",
     "text": [
      "\n"
     ]
    },
    {
     "data": {
      "image/png": "[encoded data removed]",
      "text/plain": [
       "<Figure size 432x288 with 1 Axes>"
      ]
     },
     "metadata": {},
     "output_type": "display_data"
    },
    {
     "data": {
      "text/plain": [
       "{'ci':              0\n",
       " 0.025  0.33781\n",
       " 0.975  0.45286,\n",
       " 'p_value': 8.749937943155961e-42}"
      ]
     },
     "execution_count": 188,
     "metadata": {},
     "output_type": "execute_result"
    }
   ],
   "source": [
    "get_bootstrap(SMB['Игрок 1'].dropna(), SMB['Игрок 2'].dropna(), statistic = np.mean)"
   ]
  },
  {
   "cell_type": "code",
   "execution_count": 189,
   "metadata": {},
   "outputs": [
    {
     "data": {
      "application/vnd.jupyter.widget-view+json": {
       "model_id": "e55179eadb4940a5978bbd7c6ebff461",
       "version_major": 2,
       "version_minor": 0
      },
      "text/plain": [
       "HBox(children=(FloatProgress(value=0.0, max=1000.0), HTML(value='')))"
      ]
     },
     "metadata": {},
     "output_type": "display_data"
    },
    {
     "name": "stdout",
     "output_type": "stream",
     "text": [
      "\n"
     ]
    },
    {
     "data": {
      "image/png": "[encoded data removed]",
      "text/plain": [
       "<Figure size 432x288 with 1 Axes>"
      ]
     },
     "metadata": {},
     "output_type": "display_data"
    },
    {
     "data": {
      "text/plain": [
       "{'ci':               0\n",
       " 0.025  0.309091\n",
       " 0.975  0.500000,\n",
       " 'p_value': 5.940645237892565e-21}"
      ]
     },
     "execution_count": 189,
     "metadata": {},
     "output_type": "execute_result"
    }
   ],
   "source": [
    "get_bootstrap(SMB['Игрок 1'].dropna(), SMB['Игрок 2'].dropna(), statistic = np.median)"
   ]
  },
  {
   "cell_type": "code",
   "execution_count": null,
   "metadata": {},
   "outputs": [],
   "source": []
  }
 ],
 "metadata": {
  "kernelspec": {
   "display_name": "Python 3",
   "language": "python",
   "name": "python3"
  },
  "language_info": {
   "codemirror_mode": {
    "name": "ipython",
    "version": 3
   },
   "file_extension": ".py",
   "mimetype": "text/x-python",
   "name": "python",
   "nbconvert_exporter": "python",
   "pygments_lexer": "ipython3",
   "version": "3.7.3"
  }
 },
 "nbformat": 4,
 "nbformat_minor": 4
}
